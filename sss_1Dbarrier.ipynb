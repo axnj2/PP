{
 "cells": [
  {
   "cell_type": "markdown",
   "metadata": {},
   "source": [
    "# Stationary scattering state for electron on one-dimensional constant barrier "
   ]
  },
  {
   "cell_type": "markdown",
   "metadata": {},
   "source": [
    "Created on Thu Feb  9 19:13:48 2017\n",
    "@author: Sabot Frédéric (and other students)\n",
    "tested on Python 3.4\n",
    "\n",
    "Modified on Tue Nov 7 2017\n",
    "@author: Jean-Marc Sparenberg\n",
    "bugs corrected, unit definition based on scipy.constants, E=V_0 added"
   ]
  },
  {
   "cell_type": "markdown",
   "metadata": {},
   "source": [
    "## Library import"
   ]
  },
  {
   "cell_type": "code",
   "execution_count": 1,
   "metadata": {},
   "outputs": [],
   "source": [
    "import numpy as np #import sinh, cosh, exp, linspace, array, zeros, angle, pi # for numerical calculations\n",
    "import scipy.constants as cst # for physical constants, type help(cst) for details\n",
    "import matplotlib.pyplot as plt # for plotting\n",
    "import matplotlib.cm as cm # color maps for complex numbers\n",
    "from matplotlib.widgets import Slider # interactive slider in graph"
   ]
  },
  {
   "cell_type": "markdown",
   "metadata": {},
   "source": [
    "## Physical parameters"
   ]
  },
  {
   "cell_type": "code",
   "execution_count": 2,
   "metadata": {},
   "outputs": [
    {
     "name": "stdout",
     "output_type": "stream",
     "text": [
      "hbar^2/2m_e =  0.03809982080226885 eV nm^2 \n",
      "\n",
      "electron energy = 1 eV\n",
      "electron wave number = 5.12316724383 nm^-1 \n",
      "\n",
      "initial barrier height = 1 eV\n",
      "initial barrier width = 2 nm\n"
     ]
    }
   ],
   "source": [
    "h2m = cst.hbar**2/2/cst.m_e/cst.e*1e18\n",
    "print ('hbar^2/2m_e = ', h2m, 'eV nm^2 \\n')\n",
    "\n",
    "E = 1\n",
    "print ('electron energy =', E, 'eV')\n",
    "k = np.sqrt(E/h2m)\n",
    "print ('electron wave number =', k, 'nm^-1 \\n')\n",
    "\n",
    "V_0 = 1\n",
    "print ('initial barrier height =', V_0, 'eV')\n",
    "a_0 = 2\n",
    "print ('initial barrier width =', a_0, 'nm')"
   ]
  },
  {
   "cell_type": "markdown",
   "metadata": {},
   "source": [
    "## Graph update"
   ]
  },
  {
   "cell_type": "code",
   "execution_count": 3,
   "metadata": {},
   "outputs": [],
   "source": [
    "def grupdate(V_0, a):\n",
    "     \n",
    "     ax.clear()\n",
    "     ax2.clear()\n",
    "     \n",
    "     ax.set_title('Electron scattering state on 1D constant barrier')\n",
    "     ax.set_xlabel('$x$ (nm)', fontsize=16)\n",
    "     ax.set_ylabel('$V$ (eV)', fontsize=16)\n",
    "     ax2.set_ylabel('$|\\psi|$ (nm$^{-1/2}$)', fontsize=16)\n",
    "        \n",
    "     xm = 4\n",
    "     ax.set_xlim((-xm, xm + a))\n",
    "     ax.set_ylim(-1, 3)\n",
    "     ax2.set_ylim(-1, 3)\n",
    "          \n",
    "     barrier = [-xm, 0, 0, a, a, xm+a]\n",
    "     barrier_high = [0, 0, V_0, V_0, 0, 0]\n",
    "     \n",
    "     ax.plot(barrier, barrier_high, 'k', lw=2.5)\n",
    "     \n",
    "     if V_0 == 0 :\n",
    "          K = k\n",
    "          T = 1\n",
    "          R = 0\n",
    "          A = 1\n",
    "          B = 0\n",
    "          \n",
    "     elif E < V_0 :\n",
    "          K = np.sqrt((V_0-E)/h2m)\n",
    "          T = np.exp(-1j*k*a)*2*k*K/(2*k*K * np.cosh(K*a) + 1j * (K**2-k**2) * np.sinh(K*a))\n",
    "          R = -1j * T * np.exp(1j*k*a) * (k**2+K**2) * np.sinh(K*a) / (2*k*K)\n",
    "          A = 1j * k * (1-R) / K\n",
    "          B = 1 + R     \n",
    "          \n",
    "     elif E == V_0 :\n",
    "          T = np.exp(-1j*k*a)*2*k/(2*k - 1j * k**2 * a)\n",
    "          R = -1j * T * np.exp(1j*k*a) * k**2 * a/2/k\n",
    "          A = 1j * k * (1-R)\n",
    "          B = 1 + R     \n",
    "\n",
    "     else :\n",
    "          K = np.sqrt((E-V_0)/h2m)\n",
    "          K2 = K/k\n",
    "          v1 = np.exp(1j*K*a)/np.exp(1j*k*a)\n",
    "          v2 = np.exp(-1j*K*a)/np.exp(1j*k*a)\n",
    "          A = -2 * v2 * (1+K2)/(v1*(1-K2)**2-v2*(1+K2)**2)\n",
    "          B = (2-A*(1+K2))/(1-K2)\n",
    "          R = A + B - 1\n",
    "          T = A*v1 + B*v2\n",
    "     \n",
    "     ax.text(3.5, 2,' $E$ = {} eV \\n $R^2$ = {} \\n $T^2$ = {}'.format(E, round(abs(R)**2*1000)/1000, round(abs(T)**2*1000)/1000),\n",
    "                  fontsize=16, bbox={'alpha':0.1, 'pad':10})\n",
    "     \n",
    "     x = np.linspace(-xm, xm + a, 500)\n",
    "     \n",
    "     z = []\n",
    "     for v in x :\n",
    "          if v < 0 :\n",
    "               z.append(np.exp(1j*k*v) + R*np.exp(-1j*k*v))\n",
    "          elif 0 < v < a:\n",
    "               if E < V_0 :\n",
    "                    z.append(A*np.sinh(K*v) + B*np.cosh(K*v))\n",
    "               elif E == V_0 :\n",
    "                    z.append(A*v + B)\n",
    "               else :\n",
    "                    z.append(A*np.exp(1j*K*v) + B*np.exp(-1j*K*v))                    \n",
    "          else :\n",
    "               z.append(T*np.exp(1j*k*v))\n",
    "\n",
    "     X = np.array([x,x])\n",
    "     \n",
    "     y0 = np.zeros(len(x))\n",
    "     y = [abs(i) for i in z]\n",
    "     Y = np.array([y0,y])\n",
    "     \n",
    "     Z = np.array([z,z])\n",
    "     C = np.angle(Z)\n",
    "     \n",
    "     ax.plot(x, y, 'k')     \n",
    "     ax.pcolormesh(X, Y, C, cmap=cm.hsv, vmin=-np.pi, vmax=np.pi)"
   ]
  },
  {
   "cell_type": "markdown",
   "metadata": {},
   "source": [
    "## Interactive window"
   ]
  },
  {
   "cell_type": "code",
   "execution_count": 4,
   "metadata": {},
   "outputs": [
    {
     "data": {
      "image/png": "[encoded data removed]",
      "text/plain": [
       "<matplotlib.figure.Figure at 0x7f36f17069e8>"
      ]
     },
     "metadata": {},
     "output_type": "display_data"
    }
   ],
   "source": [
    "fig = plt.figure()\n",
    "\n",
    "fig.subplots_adjust(bottom=0.27, right=0.87)\n",
    "\n",
    "V_slider_ax  = fig.add_axes([0.25, 0.12, 0.65, 0.03])\n",
    "V_slider = Slider(V_slider_ax, '$V_0$ (eV)', -1, 2, valinit=V_0)\n",
    "V_slider.label.set_size(16)\n",
    "\n",
    "a_slider_ax = fig.add_axes([0.25, 0.07, 0.65, 0.03])\n",
    "a_slider = Slider(a_slider_ax, '$a$ (nm)', 0.01, 2, valinit=a_0)\n",
    "a_slider.label.set_size(16)\n",
    "\n",
    "ax = fig.add_subplot(111)\n",
    "ax2 = ax.twinx()\n",
    "\n",
    "grupdate(V_0, a_0)\n",
    "\n",
    "def sliders_on_changed(val):\n",
    "    grupdate(V_slider.val, a_slider.val)\n",
    "    \n",
    "V_slider.on_changed(sliders_on_changed)\n",
    "a_slider.on_changed(sliders_on_changed)\n",
    "\n",
    "#%matplotlib inline\n",
    "#%matplotlib widgets qt tk notebook #nothing seems to work!\n",
    "plt.show()"
   ]
  },
  {
   "cell_type": "code",
   "execution_count": null,
   "metadata": {},
   "outputs": [],
   "source": []
  }
 ],
 "metadata": {
  "kernelspec": {
   "display_name": "Python 3",
   "language": "python",
   "name": "python3"
  },
  "language_info": {
   "codemirror_mode": {
    "name": "ipython",
    "version": 3
   },
   "file_extension": ".py",
   "mimetype": "text/x-python",
   "name": "python",
   "nbconvert_exporter": "python",
   "pygments_lexer": "ipython3",
   "version": "3.6.9"
  }
 },
 "nbformat": 4,
 "nbformat_minor": 1
}
